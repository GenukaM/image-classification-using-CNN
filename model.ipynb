{
 "cells": [
  {
   "cell_type": "code",
   "execution_count": 39,
   "metadata": {},
   "outputs": [],
   "source": [
    "import tensorflow as tf\n",
    "from tensorflow.keras import datasets, layers, models\n",
    "import matplotlib.pyplot as plt\n",
    "import numpy as np"
   ]
  },
  {
   "cell_type": "code",
   "execution_count": 40,
   "metadata": {},
   "outputs": [
    {
     "data": {
      "text/plain": [
       "(50000, 32, 32, 3)"
      ]
     },
     "execution_count": 40,
     "metadata": {},
     "output_type": "execute_result"
    }
   ],
   "source": [
    "(X_train, y_train), (X_test, y_test) = datasets.cifar10.load_data()\n",
    "X_train.shape"
   ]
  },
  {
   "cell_type": "code",
   "execution_count": 41,
   "metadata": {},
   "outputs": [
    {
     "data": {
      "text/plain": [
       "(10000, 32, 32, 3)"
      ]
     },
     "execution_count": 41,
     "metadata": {},
     "output_type": "execute_result"
    }
   ],
   "source": [
    "X_test.shape"
   ]
  },
  {
   "cell_type": "code",
   "execution_count": 42,
   "metadata": {},
   "outputs": [
    {
     "data": {
      "text/plain": [
       "(50000, 1)"
      ]
     },
     "execution_count": 42,
     "metadata": {},
     "output_type": "execute_result"
    }
   ],
   "source": [
    "y_train.shape"
   ]
  },
  {
   "cell_type": "code",
   "execution_count": 43,
   "metadata": {},
   "outputs": [
    {
     "data": {
      "text/plain": [
       "array([[6],\n",
       "       [9],\n",
       "       [9],\n",
       "       [4],\n",
       "       [1]], dtype=uint8)"
      ]
     },
     "execution_count": 43,
     "metadata": {},
     "output_type": "execute_result"
    }
   ],
   "source": [
    "y_train[:5]"
   ]
  },
  {
   "cell_type": "code",
   "execution_count": 44,
   "metadata": {},
   "outputs": [],
   "source": [
    "y_train = y_train.reshape(-1,)"
   ]
  },
  {
   "cell_type": "code",
   "execution_count": 45,
   "metadata": {},
   "outputs": [
    {
     "data": {
      "text/plain": [
       "array([6, 9, 9, 4, 1], dtype=uint8)"
      ]
     },
     "execution_count": 45,
     "metadata": {},
     "output_type": "execute_result"
    }
   ],
   "source": [
    "y_train[:5]"
   ]
  },
  {
   "cell_type": "code",
   "execution_count": 46,
   "metadata": {},
   "outputs": [],
   "source": [
    "classes = [\"airplane\",\"automobile\",\"bird\",\"cat\",\"deer\",\"dog\",\"frog\",\"horse\",\"ship\",\"truck\"]"
   ]
  },
  {
   "cell_type": "code",
   "execution_count": 47,
   "metadata": {},
   "outputs": [
    {
     "data": {
      "image/png": "[encoded data removed]",
      "text/plain": [
       "<Figure size 1500x200 with 1 Axes>"
      ]
     },
     "metadata": {},
     "output_type": "display_data"
    }
   ],
   "source": [
    "def plot_samples(X,y,index):\n",
    "    plt.figure(figsize=(15,2))\n",
    "    plt.imshow(X[index])\n",
    "    plt.xlabel(classes[y[index]])\n",
    "\n",
    "plot_samples(X_train,y_train, 0)    "
   ]
  },
  {
   "cell_type": "code",
   "execution_count": 48,
   "metadata": {},
   "outputs": [
    {
     "data": {
      "image/png": "[encoded data removed]",
      "text/plain": [
       "<Figure size 1500x200 with 1 Axes>"
      ]
     },
     "metadata": {},
     "output_type": "display_data"
    }
   ],
   "source": [
    "\n",
    "plot_samples(X_train,y_train, 5) "
   ]
  },
  {
   "cell_type": "code",
   "execution_count": 49,
   "metadata": {},
   "outputs": [],
   "source": [
    "X_train = X_train / 255\n",
    "X_test = X_test / 255"
   ]
  },
  {
   "cell_type": "markdown",
   "metadata": {},
   "source": [
    "#without CNN"
   ]
  },
  {
   "cell_type": "code",
   "execution_count": 50,
   "metadata": {},
   "outputs": [
    {
     "name": "stdout",
     "output_type": "stream",
     "text": [
      "Epoch 1/50\n",
      "1563/1563 [==============================] - 10s 6ms/step - loss: 1.8558 - accuracy: 0.3355\n",
      "Epoch 2/50\n",
      "1563/1563 [==============================] - 8s 5ms/step - loss: 1.6528 - accuracy: 0.4133\n",
      "Epoch 3/50\n",
      "1563/1563 [==============================] - 8s 5ms/step - loss: 1.5690 - accuracy: 0.4436\n",
      "Epoch 4/50\n",
      "1563/1563 [==============================] - 8s 5ms/step - loss: 1.5069 - accuracy: 0.4665\n",
      "Epoch 5/50\n",
      "1563/1563 [==============================] - 8s 5ms/step - loss: 1.4553 - accuracy: 0.4857\n",
      "Epoch 6/50\n",
      "1563/1563 [==============================] - 8s 5ms/step - loss: 1.4130 - accuracy: 0.5031\n",
      "Epoch 7/50\n",
      "1563/1563 [==============================] - 9s 6ms/step - loss: 1.3721 - accuracy: 0.5150\n",
      "Epoch 8/50\n",
      "1563/1563 [==============================] - 11s 7ms/step - loss: 1.3405 - accuracy: 0.5264\n",
      "Epoch 9/50\n",
      "1563/1563 [==============================] - 10s 6ms/step - loss: 1.3068 - accuracy: 0.5420\n",
      "Epoch 10/50\n",
      "1563/1563 [==============================] - 10s 6ms/step - loss: 1.2758 - accuracy: 0.5504\n",
      "Epoch 11/50\n",
      "1563/1563 [==============================] - 10s 6ms/step - loss: 1.2457 - accuracy: 0.5615\n",
      "Epoch 12/50\n",
      "1563/1563 [==============================] - 10s 7ms/step - loss: 1.2177 - accuracy: 0.5711\n",
      "Epoch 13/50\n",
      "1563/1563 [==============================] - 10s 6ms/step - loss: 1.1883 - accuracy: 0.5818\n",
      "Epoch 14/50\n",
      "1563/1563 [==============================] - 6s 4ms/step - loss: 1.1624 - accuracy: 0.5925\n",
      "Epoch 15/50\n",
      "1563/1563 [==============================] - 6s 4ms/step - loss: 1.1365 - accuracy: 0.6009\n",
      "Epoch 16/50\n",
      "1563/1563 [==============================] - 7s 4ms/step - loss: 1.1113 - accuracy: 0.6113\n",
      "Epoch 17/50\n",
      "1563/1563 [==============================] - 8s 5ms/step - loss: 1.0844 - accuracy: 0.6204\n",
      "Epoch 18/50\n",
      "1563/1563 [==============================] - 10s 7ms/step - loss: 1.0615 - accuracy: 0.6303\n",
      "Epoch 19/50\n",
      "1563/1563 [==============================] - 6s 4ms/step - loss: 1.0351 - accuracy: 0.6384\n",
      "Epoch 20/50\n",
      "1563/1563 [==============================] - 6s 4ms/step - loss: 1.0089 - accuracy: 0.6481\n",
      "Epoch 21/50\n",
      "1563/1563 [==============================] - 10s 6ms/step - loss: 0.9872 - accuracy: 0.6538\n",
      "Epoch 22/50\n",
      "1563/1563 [==============================] - 6s 4ms/step - loss: 0.9581 - accuracy: 0.6673\n",
      "Epoch 23/50\n",
      "1563/1563 [==============================] - 6s 4ms/step - loss: 0.9373 - accuracy: 0.6732\n",
      "Epoch 24/50\n",
      "1563/1563 [==============================] - 6s 4ms/step - loss: 0.9107 - accuracy: 0.6826\n",
      "Epoch 25/50\n",
      "1563/1563 [==============================] - 10s 6ms/step - loss: 0.8880 - accuracy: 0.6907\n",
      "Epoch 26/50\n",
      "1563/1563 [==============================] - 6s 4ms/step - loss: 0.8644 - accuracy: 0.6990\n",
      "Epoch 27/50\n",
      "1563/1563 [==============================] - 6s 4ms/step - loss: 0.8366 - accuracy: 0.7100\n",
      "Epoch 28/50\n",
      "1563/1563 [==============================] - 6s 4ms/step - loss: 0.8152 - accuracy: 0.7185\n",
      "Epoch 29/50\n",
      "1563/1563 [==============================] - 6s 4ms/step - loss: 0.7896 - accuracy: 0.7296\n",
      "Epoch 30/50\n",
      "1563/1563 [==============================] - 6s 4ms/step - loss: 0.7642 - accuracy: 0.7383\n",
      "Epoch 31/50\n",
      "1563/1563 [==============================] - 10s 6ms/step - loss: 0.7391 - accuracy: 0.7456\n",
      "Epoch 32/50\n",
      "1563/1563 [==============================] - 10s 6ms/step - loss: 0.7141 - accuracy: 0.7558\n",
      "Epoch 33/50\n",
      "1563/1563 [==============================] - 10s 6ms/step - loss: 0.6943 - accuracy: 0.7634\n",
      "Epoch 34/50\n",
      "1563/1563 [==============================] - 10s 6ms/step - loss: 0.6670 - accuracy: 0.7726\n",
      "Epoch 35/50\n",
      "1563/1563 [==============================] - 10s 6ms/step - loss: 0.6431 - accuracy: 0.7815\n",
      "Epoch 36/50\n",
      "1563/1563 [==============================] - 6s 4ms/step - loss: 0.6202 - accuracy: 0.7907\n",
      "Epoch 37/50\n",
      "1563/1563 [==============================] - 6s 4ms/step - loss: 0.5989 - accuracy: 0.7977\n",
      "Epoch 38/50\n",
      "1563/1563 [==============================] - 6s 4ms/step - loss: 0.5769 - accuracy: 0.8056\n",
      "Epoch 39/50\n",
      "1563/1563 [==============================] - 10s 6ms/step - loss: 0.5494 - accuracy: 0.8162\n",
      "Epoch 40/50\n",
      "1563/1563 [==============================] - 10s 6ms/step - loss: 0.5278 - accuracy: 0.8240\n",
      "Epoch 41/50\n",
      "1563/1563 [==============================] - 10s 6ms/step - loss: 0.5069 - accuracy: 0.8324\n",
      "Epoch 42/50\n",
      "1563/1563 [==============================] - 10s 6ms/step - loss: 0.4856 - accuracy: 0.8398\n",
      "Epoch 43/50\n",
      "1563/1563 [==============================] - 10s 6ms/step - loss: 0.4652 - accuracy: 0.8479\n",
      "Epoch 44/50\n",
      "1563/1563 [==============================] - 6s 4ms/step - loss: 0.4440 - accuracy: 0.8543\n",
      "Epoch 45/50\n",
      "1563/1563 [==============================] - 6s 4ms/step - loss: 0.4225 - accuracy: 0.8638\n",
      "Epoch 46/50\n",
      "1563/1563 [==============================] - 6s 4ms/step - loss: 0.4026 - accuracy: 0.8716\n",
      "Epoch 47/50\n",
      "1563/1563 [==============================] - 6s 4ms/step - loss: 0.3880 - accuracy: 0.8769\n",
      "Epoch 48/50\n",
      "1563/1563 [==============================] - 6s 4ms/step - loss: 0.3636 - accuracy: 0.8866\n",
      "Epoch 49/50\n",
      "1563/1563 [==============================] - 6s 4ms/step - loss: 0.3512 - accuracy: 0.8889\n",
      "Epoch 50/50\n",
      "1563/1563 [==============================] - 11s 7ms/step - loss: 0.3309 - accuracy: 0.8980\n"
     ]
    },
    {
     "data": {
      "text/plain": [
       "<tensorflow.python.keras.callbacks.History at 0x25da2a445b0>"
      ]
     },
     "execution_count": 50,
     "metadata": {},
     "output_type": "execute_result"
    }
   ],
   "source": [
    "model = models.Sequential([\n",
    "    layers.Flatten(input_shape=(32,32,3)),\n",
    "    layers.Dense(3000,activation='relu'),\n",
    "    layers.Dense(1000,activation='relu'),\n",
    "    layers.Dense(10,activation='sigmoid')\n",
    "])\n",
    "\n",
    "model.compile(optimizer='SGD',\n",
    "              loss='sparse_categorical_crossentropy',\n",
    "              metrics=['accuracy'])\n",
    "model.fit(X_train,y_train, epochs=50)"
   ]
  },
  {
   "cell_type": "code",
   "execution_count": 51,
   "metadata": {},
   "outputs": [
    {
     "name": "stdout",
     "output_type": "stream",
     "text": [
      "313/313 [==============================] - 1s 4ms/step - loss: 1.6860 - accuracy: 0.5465\n"
     ]
    },
    {
     "data": {
      "text/plain": [
       "[1.6860381364822388, 0.546500027179718]"
      ]
     },
     "execution_count": 51,
     "metadata": {},
     "output_type": "execute_result"
    }
   ],
   "source": [
    "model.evaluate(X_test,y_test)"
   ]
  },
  {
   "cell_type": "code",
   "execution_count": 52,
   "metadata": {},
   "outputs": [
    {
     "name": "stdout",
     "output_type": "stream",
     "text": [
      "classification report : \n",
      "               precision    recall  f1-score   support\n",
      "\n",
      "           0       0.64      0.64      0.64      1000\n",
      "           1       0.70      0.69      0.69      1000\n",
      "           2       0.54      0.36      0.43      1000\n",
      "           3       0.28      0.77      0.41      1000\n",
      "           4       0.56      0.46      0.51      1000\n",
      "           5       0.66      0.19      0.30      1000\n",
      "           6       0.67      0.54      0.60      1000\n",
      "           7       0.72      0.54      0.62      1000\n",
      "           8       0.67      0.71      0.69      1000\n",
      "           9       0.67      0.56      0.61      1000\n",
      "\n",
      "    accuracy                           0.55     10000\n",
      "   macro avg       0.61      0.55      0.55     10000\n",
      "weighted avg       0.61      0.55      0.55     10000\n",
      "\n"
     ]
    }
   ],
   "source": [
    "from sklearn.metrics import confusion_matrix, classification_report\n",
    "import numpy as np\n",
    "y_pred = model.predict(X_test)\n",
    "y_pred_classes = [np.argmax(element) for element in y_pred]\n",
    "\n",
    "print(\"classification report : \\n\", classification_report(y_test,y_pred_classes))"
   ]
  },
  {
   "cell_type": "markdown",
   "metadata": {},
   "source": [
    "#USing CNN"
   ]
  },
  {
   "cell_type": "code",
   "execution_count": 57,
   "metadata": {},
   "outputs": [],
   "source": [
    "CNN = models.Sequential([\n",
    "    # CNN\n",
    "    layers.Conv2D(filters = 32 , kernel_size=(3,3) ,activation='relu', input_shape=(32,32,3)),\n",
    "    layers.MaxPooling2D((2,2)),\n",
    "\n",
    "    layers.Conv2D(filters = 64 , kernel_size=(3,3) ,activation='relu'),\n",
    "    layers.MaxPooling2D((2,2)),\n",
    "\n",
    "\n",
    "    # dense\n",
    "    layers.Flatten(),\n",
    "    layers.Dense(64,activation='relu'),\n",
    "    layers.Dense(10,activation='softmax')\n",
    "])\n"
   ]
  },
  {
   "cell_type": "code",
   "execution_count": 58,
   "metadata": {},
   "outputs": [],
   "source": [
    "\n",
    "CNN.compile(optimizer='adam',\n",
    "              loss='sparse_categorical_crossentropy',\n",
    "              metrics=['accuracy'])"
   ]
  },
  {
   "cell_type": "code",
   "execution_count": 59,
   "metadata": {},
   "outputs": [
    {
     "name": "stdout",
     "output_type": "stream",
     "text": [
      "Epoch 1/50\n",
      "1563/1563 [==============================] - 12s 8ms/step - loss: 1.4510 - accuracy: 0.4821\n",
      "Epoch 2/50\n",
      "1563/1563 [==============================] - 8s 5ms/step - loss: 1.1016 - accuracy: 0.6154\n",
      "Epoch 3/50\n",
      "1563/1563 [==============================] - 8s 5ms/step - loss: 0.9798 - accuracy: 0.6567\n",
      "Epoch 4/50\n",
      "1563/1563 [==============================] - 8s 5ms/step - loss: 0.8972 - accuracy: 0.6863\n",
      "Epoch 5/50\n",
      "1563/1563 [==============================] - 8s 5ms/step - loss: 0.8326 - accuracy: 0.7112\n",
      "Epoch 6/50\n",
      "1563/1563 [==============================] - 8s 5ms/step - loss: 0.7724 - accuracy: 0.7313\n",
      "Epoch 7/50\n",
      "1563/1563 [==============================] - 8s 5ms/step - loss: 0.7294 - accuracy: 0.7443\n",
      "Epoch 8/50\n",
      "1563/1563 [==============================] - 8s 5ms/step - loss: 0.6816 - accuracy: 0.7609\n",
      "Epoch 9/50\n",
      "1563/1563 [==============================] - 8s 5ms/step - loss: 0.6446 - accuracy: 0.7760\n",
      "Epoch 10/50\n",
      "1563/1563 [==============================] - 8s 5ms/step - loss: 0.6072 - accuracy: 0.7873\n",
      "Epoch 11/50\n",
      "1563/1563 [==============================] - 8s 5ms/step - loss: 0.5757 - accuracy: 0.7976\n",
      "Epoch 12/50\n",
      "1563/1563 [==============================] - 9s 5ms/step - loss: 0.5436 - accuracy: 0.8068\n",
      "Epoch 13/50\n",
      "1563/1563 [==============================] - 8s 5ms/step - loss: 0.5099 - accuracy: 0.8181\n",
      "Epoch 14/50\n",
      "1563/1563 [==============================] - 8s 5ms/step - loss: 0.4837 - accuracy: 0.8278\n",
      "Epoch 15/50\n",
      "1563/1563 [==============================] - 10s 6ms/step - loss: 0.4592 - accuracy: 0.8352\n",
      "Epoch 16/50\n",
      "1563/1563 [==============================] - 10s 6ms/step - loss: 0.4342 - accuracy: 0.8458\n",
      "Epoch 17/50\n",
      "1563/1563 [==============================] - 10s 6ms/step - loss: 0.4106 - accuracy: 0.8545\n",
      "Epoch 18/50\n",
      "1563/1563 [==============================] - 10s 6ms/step - loss: 0.3925 - accuracy: 0.8585\n",
      "Epoch 19/50\n",
      "1563/1563 [==============================] - 8s 5ms/step - loss: 0.3634 - accuracy: 0.8711\n",
      "Epoch 20/50\n",
      "1563/1563 [==============================] - 8s 5ms/step - loss: 0.3470 - accuracy: 0.8754\n",
      "Epoch 21/50\n",
      "1563/1563 [==============================] - 8s 5ms/step - loss: 0.3293 - accuracy: 0.8816\n",
      "Epoch 22/50\n",
      "1563/1563 [==============================] - 8s 5ms/step - loss: 0.3109 - accuracy: 0.8879\n",
      "Epoch 23/50\n",
      "1563/1563 [==============================] - 8s 5ms/step - loss: 0.2929 - accuracy: 0.8947\n",
      "Epoch 24/50\n",
      "1563/1563 [==============================] - 8s 5ms/step - loss: 0.2791 - accuracy: 0.8985\n",
      "Epoch 25/50\n",
      "1563/1563 [==============================] - 8s 5ms/step - loss: 0.2596 - accuracy: 0.9066\n",
      "Epoch 26/50\n",
      "1563/1563 [==============================] - 8s 5ms/step - loss: 0.2482 - accuracy: 0.9095\n",
      "Epoch 27/50\n",
      "1563/1563 [==============================] - 8s 5ms/step - loss: 0.2371 - accuracy: 0.9138\n",
      "Epoch 28/50\n",
      "1563/1563 [==============================] - 8s 5ms/step - loss: 0.2240 - accuracy: 0.9181\n",
      "Epoch 29/50\n",
      "1563/1563 [==============================] - 10s 6ms/step - loss: 0.2166 - accuracy: 0.9217\n",
      "Epoch 30/50\n",
      "1563/1563 [==============================] - 10s 6ms/step - loss: 0.2066 - accuracy: 0.9253\n",
      "Epoch 31/50\n",
      "1563/1563 [==============================] - 9s 6ms/step - loss: 0.1951 - accuracy: 0.9285\n",
      "Epoch 32/50\n",
      "1563/1563 [==============================] - 10s 6ms/step - loss: 0.1892 - accuracy: 0.9306\n",
      "Epoch 33/50\n",
      "1563/1563 [==============================] - 11s 7ms/step - loss: 0.1903 - accuracy: 0.9311\n",
      "Epoch 34/50\n",
      "1563/1563 [==============================] - 8s 5ms/step - loss: 0.1667 - accuracy: 0.9384\n",
      "Epoch 35/50\n",
      "1563/1563 [==============================] - 10s 6ms/step - loss: 0.1634 - accuracy: 0.9407\n",
      "Epoch 36/50\n",
      "1563/1563 [==============================] - 10s 6ms/step - loss: 0.1620 - accuracy: 0.9414\n",
      "Epoch 37/50\n",
      "1563/1563 [==============================] - 10s 6ms/step - loss: 0.1437 - accuracy: 0.9482\n",
      "Epoch 38/50\n",
      "1563/1563 [==============================] - 6s 4ms/step - loss: 0.1533 - accuracy: 0.9443\n",
      "Epoch 39/50\n",
      "1563/1563 [==============================] - 8s 5ms/step - loss: 0.1423 - accuracy: 0.9482\n",
      "Epoch 40/50\n",
      "1563/1563 [==============================] - 10s 6ms/step - loss: 0.1390 - accuracy: 0.9496\n",
      "Epoch 41/50\n",
      "1563/1563 [==============================] - 10s 7ms/step - loss: 0.1339 - accuracy: 0.9513\n",
      "Epoch 42/50\n",
      "1563/1563 [==============================] - 8s 5ms/step - loss: 0.1291 - accuracy: 0.9535\n",
      "Epoch 43/50\n",
      "1563/1563 [==============================] - 10s 7ms/step - loss: 0.1232 - accuracy: 0.9553\n",
      "Epoch 44/50\n",
      "1563/1563 [==============================] - 10s 6ms/step - loss: 0.1225 - accuracy: 0.9559\n",
      "Epoch 45/50\n",
      "1563/1563 [==============================] - 6s 4ms/step - loss: 0.1315 - accuracy: 0.9532\n",
      "Epoch 46/50\n",
      "1563/1563 [==============================] - 6s 4ms/step - loss: 0.1198 - accuracy: 0.9580\n",
      "Epoch 47/50\n",
      "1563/1563 [==============================] - 10s 7ms/step - loss: 0.1166 - accuracy: 0.9590\n",
      "Epoch 48/50\n",
      "1563/1563 [==============================] - 8s 5ms/step - loss: 0.1093 - accuracy: 0.9608\n",
      "Epoch 49/50\n",
      "1563/1563 [==============================] - 9s 6ms/step - loss: 0.1106 - accuracy: 0.9602\n",
      "Epoch 50/50\n",
      "1563/1563 [==============================] - 12s 7ms/step - loss: 0.1183 - accuracy: 0.9584\n"
     ]
    },
    {
     "data": {
      "text/plain": [
       "<tensorflow.python.keras.callbacks.History at 0x25fa2a14250>"
      ]
     },
     "execution_count": 59,
     "metadata": {},
     "output_type": "execute_result"
    }
   ],
   "source": [
    "CNN.fit(X_train,y_train, epochs=50)"
   ]
  },
  {
   "cell_type": "code",
   "execution_count": 62,
   "metadata": {},
   "outputs": [
    {
     "data": {
      "text/plain": [
       "array([3, 8, 8, ..., 5, 1, 7], dtype=uint8)"
      ]
     },
     "execution_count": 62,
     "metadata": {},
     "output_type": "execute_result"
    }
   ],
   "source": [
    "y_test = y_test.reshape(-1,)\n",
    "y_test"
   ]
  },
  {
   "cell_type": "code",
   "execution_count": 63,
   "metadata": {},
   "outputs": [
    {
     "name": "stdout",
     "output_type": "stream",
     "text": [
      "313/313 [==============================] - 2s 5ms/step - loss: 3.1746 - accuracy: 0.6541\n"
     ]
    },
    {
     "data": {
      "text/plain": [
       "[3.1745755672454834, 0.6541000008583069]"
      ]
     },
     "execution_count": 63,
     "metadata": {},
     "output_type": "execute_result"
    }
   ],
   "source": [
    "CNN.evaluate(X_test,y_test)"
   ]
  },
  {
   "cell_type": "code",
   "execution_count": 65,
   "metadata": {},
   "outputs": [
    {
     "name": "stdout",
     "output_type": "stream",
     "text": [
      "classification report : \n",
      "               precision    recall  f1-score   support\n",
      "\n",
      "           0       0.66      0.73      0.69      1000\n",
      "           1       0.79      0.79      0.79      1000\n",
      "           2       0.54      0.54      0.54      1000\n",
      "           3       0.44      0.48      0.46      1000\n",
      "           4       0.62      0.59      0.60      1000\n",
      "           5       0.55      0.53      0.54      1000\n",
      "           6       0.70      0.74      0.72      1000\n",
      "           7       0.73      0.68      0.70      1000\n",
      "           8       0.78      0.75      0.76      1000\n",
      "           9       0.78      0.72      0.75      1000\n",
      "\n",
      "    accuracy                           0.65     10000\n",
      "   macro avg       0.66      0.65      0.66     10000\n",
      "weighted avg       0.66      0.65      0.66     10000\n",
      "\n"
     ]
    }
   ],
   "source": [
    "from sklearn.metrics import confusion_matrix, classification_report\n",
    "import numpy as np\n",
    "y_pred = CNN.predict(X_test)\n",
    "y_pred_classes = [np.argmax(element) for element in y_pred]\n",
    "\n",
    "print(\"classification report : \\n\", classification_report(y_test,y_pred_classes))"
   ]
  },
  {
   "cell_type": "code",
   "execution_count": null,
   "metadata": {},
   "outputs": [],
   "source": []
  }
 ],
 "metadata": {
  "kernelspec": {
   "display_name": "Python 3",
   "language": "python",
   "name": "python3"
  },
  "language_info": {
   "codemirror_mode": {
    "name": "ipython",
    "version": 3
   },
   "file_extension": ".py",
   "mimetype": "text/x-python",
   "name": "python",
   "nbconvert_exporter": "python",
   "pygments_lexer": "ipython3",
   "version": "3.8.10"
  }
 },
 "nbformat": 4,
 "nbformat_minor": 2
}
